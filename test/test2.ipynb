{
 "cells": [
  {
   "cell_type": "markdown",
   "source": [
    "# 添加所需要的库"
   ],
   "metadata": {
    "collapsed": false
   }
  },
  {
   "cell_type": "code",
   "execution_count": 1,
   "outputs": [],
   "source": [
    "import syft as sy\n",
    "from syft.workers.websocket_client import WebsocketClientWorker\n",
    "from src.websocket_client import MyWebsocketClientWorker\n",
    "from src.nn_model import ConvNet1D, loss_fn\n",
    "from src.my_utils import generate_kwarg\n",
    "import torch\n",
    "from datetime import datetime\n",
    "import asyncio"
   ],
   "metadata": {
    "collapsed": false,
    "ExecuteTime": {
     "end_time": "2024-06-13T07:43:41.622645Z",
     "start_time": "2024-06-13T07:43:40.997832900Z"
    }
   }
  },
  {
   "cell_type": "code",
   "execution_count": 2,
   "outputs": [],
   "source": [
    "client_device_mapping_id = {\n",
    "    \"192.168.3.5\": \"AA\",\n",
    "    \"192.168.3.6\": \"BB\",\n",
    "    \"192.168.3.9\": \"CC\",\n",
    "    \"192.168.3.15\": \"DD\",\n",
    "    \"192.168.3.16\": \"EE\",\n",
    "}\n",
    "\n",
    "hook = sy.TorchHook(torch)\n",
    "\n",
    "# 连接当前确认的中心节点\n",
    "aa_kwarg = generate_kwarg('AA')\n",
    "node_aa = MyWebsocketClientWorker(hook=hook, **aa_kwarg)\n",
    "\n",
    "# 在聚合初始化模型\n",
    "command = {\"command_name\": \"model_initialization\"}\n",
    "node_aa.command(command)"
   ],
   "metadata": {
    "collapsed": false,
    "ExecuteTime": {
     "end_time": "2024-06-13T07:43:42.132118300Z",
     "start_time": "2024-06-13T07:43:41.622645Z"
    }
   }
  },
  {
   "cell_type": "code",
   "execution_count": 3,
   "outputs": [],
   "source": [
    "# 分发第一部分模型\n",
    "command = {\n",
    "    \"command_name\": \"model_dissemination\",\n",
    "    \"forward_device_mapping_id\": {\n",
    "        \"192.168.3.6\": \"BB\",\n",
    "        \"192.168.3.9\": \"CC\",\n",
    "    }\n",
    "}\n",
    "node_aa.command(command)\n",
    "node_aa.close()"
   ],
   "metadata": {
    "collapsed": false,
    "ExecuteTime": {
     "end_time": "2024-06-13T07:43:43.807815700Z",
     "start_time": "2024-06-13T07:43:42.134118Z"
    }
   }
  },
  {
   "cell_type": "code",
   "execution_count": 4,
   "outputs": [],
   "source": [
    "# 分发第二次模型\n",
    "command_1 = {\n",
    "    \"command_name\": \"model_dissemination\",\n",
    "    \"forward_device_mapping_id\": {\n",
    "        \"192.168.3.15\": \"DD\"\n",
    "    }\n",
    "}\n",
    "\n",
    "command_2 = {\n",
    "    \"command_name\": \"model_dissemination\",\n",
    "    \"forward_device_mapping_id\": {\n",
    "        \"192.168.3.16\": \"EE\"\n",
    "    }\n",
    "}\n",
    "\n",
    "cmds = [command_1, command_2]\n",
    "\n",
    "bb_kwarg = generate_kwarg('BB')\n",
    "cc_kwarg = generate_kwarg('CC')\n",
    "all_nodes = []\n",
    "for kwarg in [bb_kwarg, cc_kwarg]:\n",
    "    all_nodes.append(MyWebsocketClientWorker(hook=hook, **kwarg))\n",
    "\n",
    "command = {\n",
    "    \"command_name\": \"model_configuration\"\n",
    "}\n",
    "\n",
    "for n in all_nodes:\n",
    "    n.command(command)\n",
    "\n",
    "async def send_model():\n",
    "    await asyncio.gather(\n",
    "        *[\n",
    "            n.async_command(cmd)\n",
    "            for n, cmd in zip(all_nodes, cmds)\n",
    "        ]\n",
    "    )"
   ],
   "metadata": {
    "collapsed": false,
    "ExecuteTime": {
     "end_time": "2024-06-13T07:43:44.241083600Z",
     "start_time": "2024-06-13T07:43:43.811814600Z"
    }
   }
  },
  {
   "cell_type": "code",
   "execution_count": 5,
   "outputs": [],
   "source": [
    "await send_model()\n",
    "for n in all_nodes:\n",
    "    n.close()"
   ],
   "metadata": {
    "collapsed": false,
    "ExecuteTime": {
     "end_time": "2024-06-13T07:43:45.143903500Z",
     "start_time": "2024-06-13T07:43:44.244083300Z"
    }
   }
  },
  {
   "cell_type": "code",
   "execution_count": 6,
   "outputs": [],
   "source": [
    "all_nodes = []\n",
    "for ip, ID in client_device_mapping_id.items():\n",
    "    kwargs_websocket = {\"hook\": hook, \"host\": ip, \"port\": 9292, \"id\": ID}\n",
    "    all_nodes.append(MyWebsocketClientWorker(**kwargs_websocket))"
   ],
   "metadata": {
    "collapsed": false,
    "ExecuteTime": {
     "end_time": "2024-06-13T07:43:45.271856Z",
     "start_time": "2024-06-13T07:43:45.145845900Z"
    }
   }
  },
  {
   "cell_type": "code",
   "execution_count": 7,
   "outputs": [],
   "source": [
    "command = {\n",
    "    \"command_name\": \"model_configuration\"\n",
    "}\n",
    "\n",
    "for n in all_nodes[1:]:\n",
    "    n.command(command)"
   ],
   "metadata": {
    "collapsed": false,
    "ExecuteTime": {
     "end_time": "2024-06-13T07:43:59.034612400Z",
     "start_time": "2024-06-13T07:43:45.270771500Z"
    }
   }
  },
  {
   "cell_type": "code",
   "execution_count": 8,
   "outputs": [],
   "source": [
    "command = {\n",
    "    \"command_name\": \"train\",\n",
    "    \"dataset_key\": \"HAR-1\"\n",
    "}\n",
    "\n",
    "async def train():\n",
    "    await asyncio.gather(\n",
    "        *[\n",
    "            n.async_command(command)\n",
    "            for n in all_nodes\n",
    "        ]\n",
    "    )"
   ],
   "metadata": {
    "collapsed": false,
    "ExecuteTime": {
     "end_time": "2024-06-13T07:43:59.036735700Z",
     "start_time": "2024-06-13T07:43:59.032612400Z"
    }
   }
  },
  {
   "cell_type": "code",
   "execution_count": 9,
   "outputs": [
    {
     "name": "stdout",
     "output_type": "stream",
     "text": [
      "An error occurred during async_command: code = 1000 (OK), no reason\n"
     ]
    }
   ],
   "source": [
    "await train()"
   ],
   "metadata": {
    "collapsed": false,
    "ExecuteTime": {
     "end_time": "2024-06-13T07:44:05.440137400Z",
     "start_time": "2024-06-13T07:43:59.035792900Z"
    }
   }
  }
 ],
 "metadata": {
  "kernelspec": {
   "display_name": "Python 3",
   "language": "python",
   "name": "python3"
  },
  "language_info": {
   "codemirror_mode": {
    "name": "ipython",
    "version": 2
   },
   "file_extension": ".py",
   "mimetype": "text/x-python",
   "name": "python",
   "nbconvert_exporter": "python",
   "pygments_lexer": "ipython2",
   "version": "2.7.6"
  }
 },
 "nbformat": 4,
 "nbformat_minor": 0
}
