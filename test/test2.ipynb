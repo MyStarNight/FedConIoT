{
 "cells": [
  {
   "cell_type": "markdown",
   "source": [
    "# 添加所需要的库"
   ],
   "metadata": {
    "collapsed": false
   }
  },
  {
   "cell_type": "code",
   "execution_count": 1,
   "outputs": [],
   "source": [
    "import syft as sy\n",
    "from syft.workers.websocket_client import WebsocketClientWorker\n",
    "from src.websocket_client import MyWebsocketClientWorker\n",
    "from src.nn_model import ConvNet1D, loss_fn\n",
    "from src.my_utils import generate_kwarg\n",
    "import torch\n",
    "from datetime import datetime\n",
    "import asyncio"
   ],
   "metadata": {
    "collapsed": false,
    "ExecuteTime": {
     "end_time": "2024-06-12T15:15:21.591479400Z",
     "start_time": "2024-06-12T15:15:20.893719100Z"
    }
   }
  },
  {
   "cell_type": "code",
   "execution_count": 2,
   "outputs": [
    {
     "name": "stderr",
     "output_type": "stream",
     "text": [
      "Websocket connection closed (worker: AA)\n",
      "Created new websocket connection\n"
     ]
    },
    {
     "ename": "RuntimeError",
     "evalue": "Websocket connection closed and creation of new connection failed.",
     "output_type": "error",
     "traceback": [
      "\u001B[1;31m---------------------------------------------------------------------------\u001B[0m",
      "\u001B[1;31mRuntimeError\u001B[0m                              Traceback (most recent call last)",
      "\u001B[1;32m~\\AppData\\Local\\Temp\\ipykernel_5844\\2068376099.py\u001B[0m in \u001B[0;36m<module>\u001B[1;34m\u001B[0m\n\u001B[0;32m     15\u001B[0m \u001B[1;31m# 在聚合初始化模型\u001B[0m\u001B[1;33m\u001B[0m\u001B[1;33m\u001B[0m\u001B[1;33m\u001B[0m\u001B[0m\n\u001B[0;32m     16\u001B[0m \u001B[0mcommand\u001B[0m \u001B[1;33m=\u001B[0m \u001B[1;33m{\u001B[0m\u001B[1;34m\"command_name\"\u001B[0m\u001B[1;33m:\u001B[0m \u001B[1;34m\"model_initialization\"\u001B[0m\u001B[1;33m}\u001B[0m\u001B[1;33m\u001B[0m\u001B[1;33m\u001B[0m\u001B[0m\n\u001B[1;32m---> 17\u001B[1;33m \u001B[0mnode_aa\u001B[0m\u001B[1;33m.\u001B[0m\u001B[0mcommand\u001B[0m\u001B[1;33m(\u001B[0m\u001B[0mcommand\u001B[0m\u001B[1;33m)\u001B[0m\u001B[1;33m\u001B[0m\u001B[1;33m\u001B[0m\u001B[0m\n\u001B[0m",
      "\u001B[1;32mE:\\2024mem\\AI-project\\FedConIoT\\src\\websocket_client.py\u001B[0m in \u001B[0;36mcommand\u001B[1;34m(self, command)\u001B[0m\n\u001B[0;32m     45\u001B[0m \u001B[1;33m\u001B[0m\u001B[0m\n\u001B[0;32m     46\u001B[0m     \u001B[1;32mdef\u001B[0m \u001B[0mcommand\u001B[0m\u001B[1;33m(\u001B[0m\u001B[0mself\u001B[0m\u001B[1;33m,\u001B[0m \u001B[0mcommand\u001B[0m\u001B[1;33m:\u001B[0m \u001B[0mdict\u001B[0m\u001B[1;33m)\u001B[0m\u001B[1;33m:\u001B[0m\u001B[1;33m\u001B[0m\u001B[1;33m\u001B[0m\u001B[0m\n\u001B[1;32m---> 47\u001B[1;33m         \u001B[1;32mreturn\u001B[0m \u001B[0mself\u001B[0m\u001B[1;33m.\u001B[0m\u001B[0m_send_msg_and_deserialize\u001B[0m\u001B[1;33m(\u001B[0m\u001B[1;33m**\u001B[0m\u001B[0mcommand\u001B[0m\u001B[1;33m)\u001B[0m\u001B[1;33m\u001B[0m\u001B[1;33m\u001B[0m\u001B[0m\n\u001B[0m\u001B[0;32m     48\u001B[0m \u001B[1;33m\u001B[0m\u001B[0m\n\u001B[0;32m     49\u001B[0m \u001B[1;33m\u001B[0m\u001B[0m\n",
      "\u001B[1;32mE:\\Miniconda\\envs\\fl3\\lib\\site-packages\\syft-0.2.4-py3.7.egg\\syft\\workers\\websocket_client.py\u001B[0m in \u001B[0;36m_send_msg_and_deserialize\u001B[1;34m(self, command_name, *args, **kwargs)\u001B[0m\n\u001B[0;32m    112\u001B[0m         \u001B[1;31m# Send the message and return the deserialized response.\u001B[0m\u001B[1;33m\u001B[0m\u001B[1;33m\u001B[0m\u001B[1;33m\u001B[0m\u001B[0m\n\u001B[0;32m    113\u001B[0m         \u001B[0mserialized_message\u001B[0m \u001B[1;33m=\u001B[0m \u001B[0msy\u001B[0m\u001B[1;33m.\u001B[0m\u001B[0mserde\u001B[0m\u001B[1;33m.\u001B[0m\u001B[0mserialize\u001B[0m\u001B[1;33m(\u001B[0m\u001B[0mmessage\u001B[0m\u001B[1;33m)\u001B[0m\u001B[1;33m\u001B[0m\u001B[1;33m\u001B[0m\u001B[0m\n\u001B[1;32m--> 114\u001B[1;33m         \u001B[0mresponse\u001B[0m \u001B[1;33m=\u001B[0m \u001B[0mself\u001B[0m\u001B[1;33m.\u001B[0m\u001B[0m_send_msg\u001B[0m\u001B[1;33m(\u001B[0m\u001B[0mserialized_message\u001B[0m\u001B[1;33m)\u001B[0m\u001B[1;33m\u001B[0m\u001B[1;33m\u001B[0m\u001B[0m\n\u001B[0m\u001B[0;32m    115\u001B[0m         \u001B[1;32mreturn\u001B[0m \u001B[0msy\u001B[0m\u001B[1;33m.\u001B[0m\u001B[0mserde\u001B[0m\u001B[1;33m.\u001B[0m\u001B[0mdeserialize\u001B[0m\u001B[1;33m(\u001B[0m\u001B[0mresponse\u001B[0m\u001B[1;33m)\u001B[0m\u001B[1;33m\u001B[0m\u001B[1;33m\u001B[0m\u001B[0m\n\u001B[0;32m    116\u001B[0m \u001B[1;33m\u001B[0m\u001B[0m\n",
      "\u001B[1;32mE:\\Miniconda\\envs\\fl3\\lib\\site-packages\\syft-0.2.4-py3.7.egg\\syft\\workers\\websocket_client.py\u001B[0m in \u001B[0;36m_send_msg\u001B[1;34m(self, message, location)\u001B[0m\n\u001B[0;32m     82\u001B[0m \u001B[1;33m\u001B[0m\u001B[0m\n\u001B[0;32m     83\u001B[0m     \u001B[1;32mdef\u001B[0m \u001B[0m_send_msg\u001B[0m\u001B[1;33m(\u001B[0m\u001B[0mself\u001B[0m\u001B[1;33m,\u001B[0m \u001B[0mmessage\u001B[0m\u001B[1;33m:\u001B[0m \u001B[0mbin\u001B[0m\u001B[1;33m,\u001B[0m \u001B[0mlocation\u001B[0m\u001B[1;33m=\u001B[0m\u001B[1;32mNone\u001B[0m\u001B[1;33m)\u001B[0m \u001B[1;33m->\u001B[0m \u001B[0mbin\u001B[0m\u001B[1;33m:\u001B[0m\u001B[1;33m\u001B[0m\u001B[1;33m\u001B[0m\u001B[0m\n\u001B[1;32m---> 84\u001B[1;33m         \u001B[1;32mreturn\u001B[0m \u001B[0mself\u001B[0m\u001B[1;33m.\u001B[0m\u001B[0m_recv_msg\u001B[0m\u001B[1;33m(\u001B[0m\u001B[0mmessage\u001B[0m\u001B[1;33m)\u001B[0m\u001B[1;33m\u001B[0m\u001B[1;33m\u001B[0m\u001B[0m\n\u001B[0m\u001B[0;32m     85\u001B[0m \u001B[1;33m\u001B[0m\u001B[0m\n\u001B[0;32m     86\u001B[0m     \u001B[1;32mdef\u001B[0m \u001B[0m_forward_to_websocket_server_worker\u001B[0m\u001B[1;33m(\u001B[0m\u001B[0mself\u001B[0m\u001B[1;33m,\u001B[0m \u001B[0mmessage\u001B[0m\u001B[1;33m:\u001B[0m \u001B[0mbin\u001B[0m\u001B[1;33m)\u001B[0m \u001B[1;33m->\u001B[0m \u001B[0mbin\u001B[0m\u001B[1;33m:\u001B[0m\u001B[1;33m\u001B[0m\u001B[1;33m\u001B[0m\u001B[0m\n",
      "\u001B[1;32mE:\\Miniconda\\envs\\fl3\\lib\\site-packages\\syft-0.2.4-py3.7.egg\\syft\\workers\\websocket_client.py\u001B[0m in \u001B[0;36m_recv_msg\u001B[1;34m(self, message)\u001B[0m\n\u001B[0;32m    103\u001B[0m             \u001B[1;32mif\u001B[0m \u001B[1;32mnot\u001B[0m \u001B[0mself\u001B[0m\u001B[1;33m.\u001B[0m\u001B[0mws\u001B[0m\u001B[1;33m.\u001B[0m\u001B[0mconnected\u001B[0m\u001B[1;33m:\u001B[0m\u001B[1;33m\u001B[0m\u001B[1;33m\u001B[0m\u001B[0m\n\u001B[0;32m    104\u001B[0m                 raise RuntimeError(\n\u001B[1;32m--> 105\u001B[1;33m                     \u001B[1;34m\"Websocket connection closed and creation of new connection failed.\"\u001B[0m\u001B[1;33m\u001B[0m\u001B[1;33m\u001B[0m\u001B[0m\n\u001B[0m\u001B[0;32m    106\u001B[0m                 )\n\u001B[0;32m    107\u001B[0m         \u001B[1;32mreturn\u001B[0m \u001B[0mresponse\u001B[0m\u001B[1;33m\u001B[0m\u001B[1;33m\u001B[0m\u001B[0m\n",
      "\u001B[1;31mRuntimeError\u001B[0m: Websocket connection closed and creation of new connection failed."
     ]
    }
   ],
   "source": [
    "client_device_mapping_id = {\n",
    "    \"192.168.3.5\": \"AA\",\n",
    "    \"192.168.3.6\": \"BB\",\n",
    "    \"192.168.3.9\": \"CC\",\n",
    "    \"192.168.3.15\": \"DD\",\n",
    "    \"192.168.3.16\": \"EE\",\n",
    "}\n",
    "\n",
    "hook = sy.TorchHook(torch)\n",
    "\n",
    "# 连接当前确认的中心节点\n",
    "aa_kwarg = generate_kwarg('AA')\n",
    "node_aa = MyWebsocketClientWorker(hook=hook, **aa_kwarg)\n",
    "\n",
    "# 在聚合初始化模型\n",
    "command = {\"command_name\": \"model_initialization\"}\n",
    "node_aa.command(command)"
   ],
   "metadata": {
    "collapsed": false,
    "ExecuteTime": {
     "end_time": "2024-06-12T15:15:48.477003400Z",
     "start_time": "2024-06-12T15:15:47.378302600Z"
    }
   }
  },
  {
   "cell_type": "code",
   "execution_count": null,
   "outputs": [],
   "source": [
    "# 分发第一部分模型\n",
    "command = {\n",
    "    \"command_name\": \"model_dissemination\",\n",
    "    \"forward_device_mapping_id\": {\n",
    "        \"192.168.3.6\": \"BB\",\n",
    "        \"192.168.3.9\": \"CC\",\n",
    "    }\n",
    "}\n",
    "node_aa.command(command)"
   ],
   "metadata": {
    "collapsed": false
   }
  },
  {
   "cell_type": "code",
   "execution_count": null,
   "outputs": [],
   "source": [
    "# 分发第二次模型\n",
    "command_1 = {\n",
    "    \"command_name\": \"model_dissemination\",\n",
    "    \"forward_device_mapping_id\": {\n",
    "        \"192.168.3.15\": \"DD\"\n",
    "    }\n",
    "}\n",
    "\n",
    "command_2 = {\n",
    "    \"command_name\": \"model_dissemination\",\n",
    "    \"forward_device_mapping_id\": {\n",
    "        \"192.168.3.16\": \"EE\"\n",
    "    }\n",
    "}\n",
    "\n",
    "cmds = [command_1, command_2]\n",
    "\n",
    "bb_kwarg = generate_kwarg('BB')\n",
    "cc_kwarg = generate_kwarg('CC')\n",
    "all_nodes = []\n",
    "for kwarg in [bb_kwarg, cc_kwarg]:\n",
    "    all_nodes.append(MyWebsocketClientWorker(hook=hook, **kwarg))\n",
    "\n",
    "async def main():\n",
    "    await asyncio.gather(\n",
    "        *[\n",
    "            n.async_command(cmd)\n",
    "            for n, cmd in zip(all_nodes, cmds)\n",
    "        ]\n",
    "    )"
   ],
   "metadata": {
    "collapsed": false
   }
  },
  {
   "cell_type": "code",
   "execution_count": null,
   "outputs": [],
   "source": [
    "await main()"
   ],
   "metadata": {
    "collapsed": false
   }
  }
 ],
 "metadata": {
  "kernelspec": {
   "display_name": "Python 3",
   "language": "python",
   "name": "python3"
  },
  "language_info": {
   "codemirror_mode": {
    "name": "ipython",
    "version": 2
   },
   "file_extension": ".py",
   "mimetype": "text/x-python",
   "name": "python",
   "nbconvert_exporter": "python",
   "pygments_lexer": "ipython2",
   "version": "2.7.6"
  }
 },
 "nbformat": 4,
 "nbformat_minor": 0
}
