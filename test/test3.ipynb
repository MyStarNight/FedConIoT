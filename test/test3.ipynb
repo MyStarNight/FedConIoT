{
 "cells": [
  {
   "cell_type": "code",
   "execution_count": 1,
   "metadata": {
    "collapsed": true,
    "ExecuteTime": {
     "end_time": "2024-06-14T05:11:58.987437100Z",
     "start_time": "2024-06-14T05:11:57.770444800Z"
    }
   },
   "outputs": [],
   "source": [
    "import syft as sy\n",
    "from syft.workers.websocket_client import WebsocketClientWorker\n",
    "from src.websocket_client import MyWebsocketClientWorker\n",
    "from src.nn_model import ConvNet1D, loss_fn\n",
    "from src.my_utils import generate_kwarg\n",
    "import torch\n",
    "from datetime import datetime\n",
    "import asyncio\n",
    "\n",
    "client_device_mapping_id = {\n",
    "    \"192.168.3.5\": \"AA\",\n",
    "    \"192.168.3.6\": \"BB\",\n",
    "    \"192.168.3.9\": \"CC\",\n",
    "    \"192.168.3.15\": \"DD\",\n",
    "    \"192.168.3.16\": \"EE\",\n",
    "}\n",
    "\n",
    "async def send_command(commands, nodes):\n",
    "    await asyncio.gather(\n",
    "        *[\n",
    "            n.async_command(cmd)\n",
    "            for n, cmd in zip(nodes, commands)\n",
    "        ]\n",
    "    )\n",
    "\n",
    "pull_and_pull_tree = {\n",
    "    1: [('AA', 'BB'), ('AA', 'CC')],\n",
    "    2: [('BB', 'DD'), ('CC', 'DD')]\n",
    "}\n",
    "hook = sy.TorchHook(torch)\n",
    "\n",
    "# 连接设备A\n",
    "aa_kwarg = generate_kwarg('AA')\n",
    "node_aa = MyWebsocketClientWorker(hook=hook, **aa_kwarg)\n",
    "\n",
    "'''分发第一层模型'''\n",
    "# 初始化模型\n",
    "node_aa.command(\n",
    "    {\n",
    "        \"command_name\": \"model_initialization\"\n",
    "    }\n",
    ")"
   ]
  },
  {
   "cell_type": "code",
   "execution_count": 2,
   "outputs": [],
   "source": [
    "# 开始分发模型\n",
    "node_aa.command(\n",
    "    {\n",
    "        \"command_name\": \"model_dissemination\",\n",
    "        \"forward_device_id\": ['BB', 'CC']\n",
    "    }\n",
    ")"
   ],
   "metadata": {
    "collapsed": false,
    "ExecuteTime": {
     "end_time": "2024-06-14T05:12:00.719069700Z",
     "start_time": "2024-06-14T05:11:58.990012400Z"
    }
   }
  },
  {
   "cell_type": "code",
   "execution_count": 3,
   "outputs": [],
   "source": [
    "node_aa.close()\n",
    "\n",
    "'''分发第二层模型'''\n",
    "command_1 = {\n",
    "    \"command_name\": \"model_dissemination\",\n",
    "    \"forward_device_id\": ['DD']\n",
    "}\n",
    "\n",
    "command_2 = {\n",
    "    \"command_name\": \"model_dissemination\",\n",
    "    \"forward_device_id\": ['EE']\n",
    "}\n",
    "cmds = [command_1, command_2]\n",
    "\n",
    "bb_kwarg = generate_kwarg('BB')\n",
    "cc_kwarg = generate_kwarg('CC')\n",
    "node_bb = MyWebsocketClientWorker(hook, **bb_kwarg)\n",
    "node_cc = MyWebsocketClientWorker(hook, **cc_kwarg)"
   ],
   "metadata": {
    "collapsed": false,
    "ExecuteTime": {
     "end_time": "2024-06-14T05:12:00.773901800Z",
     "start_time": "2024-06-14T05:12:00.720069700Z"
    }
   }
  },
  {
   "cell_type": "code",
   "execution_count": 4,
   "outputs": [],
   "source": [
    "await send_command(commands=cmds, nodes=[node_bb, node_cc])"
   ],
   "metadata": {
    "collapsed": false,
    "ExecuteTime": {
     "end_time": "2024-06-14T05:12:01.649074Z",
     "start_time": "2024-06-14T05:12:00.773901800Z"
    }
   }
  },
  {
   "cell_type": "code",
   "execution_count": 5,
   "outputs": [],
   "source": [
    "node_bb.close()\n",
    "node_cc.close()"
   ],
   "metadata": {
    "collapsed": false,
    "ExecuteTime": {
     "end_time": "2024-06-14T05:12:01.650074100Z",
     "start_time": "2024-06-14T05:12:01.649074Z"
    }
   }
  },
  {
   "cell_type": "code",
   "execution_count": 6,
   "outputs": [
    {
     "data": {
      "text/plain": "[<MyWebsocketClientWorker id:AA #objects local:0 #objects remote: 0>,\n <MyWebsocketClientWorker id:BB #objects local:0 #objects remote: 0>,\n <MyWebsocketClientWorker id:CC #objects local:0 #objects remote: 0>,\n <MyWebsocketClientWorker id:DD #objects local:0 #objects remote: 0>,\n <MyWebsocketClientWorker id:EE #objects local:0 #objects remote: 0>]"
     },
     "execution_count": 6,
     "metadata": {},
     "output_type": "execute_result"
    }
   ],
   "source": [
    "'''训练部分'''\n",
    "all_nodes = []\n",
    "for ip, ID in client_device_mapping_id.items():\n",
    "    kwargs_websocket = {\"hook\": hook, \"host\": ip, \"port\": 9292, \"id\": ID}\n",
    "    all_nodes.append(MyWebsocketClientWorker(**kwargs_websocket))\n",
    "\n",
    "all_nodes"
   ],
   "metadata": {
    "collapsed": false,
    "ExecuteTime": {
     "end_time": "2024-06-14T05:12:01.825007600Z",
     "start_time": "2024-06-14T05:12:01.649074Z"
    }
   }
  },
  {
   "cell_type": "code",
   "execution_count": 7,
   "outputs": [],
   "source": [
    "command = {\n",
    "    \"command_name\": \"train\",\n",
    "    \"dataset_key\": \"HAR-1\"\n",
    "}\n",
    "\n",
    "await send_command(commands=[command]*5, nodes=all_nodes)"
   ],
   "metadata": {
    "collapsed": false,
    "ExecuteTime": {
     "end_time": "2024-06-14T05:12:02.473164600Z",
     "start_time": "2024-06-14T05:12:01.824007300Z"
    }
   }
  },
  {
   "cell_type": "code",
   "execution_count": 8,
   "outputs": [
    {
     "data": {
      "text/plain": "[<MyWebsocketClientWorker id:AA #objects local:0 #objects remote: 0>,\n <MyWebsocketClientWorker id:BB #objects local:0 #objects remote: 0>,\n <MyWebsocketClientWorker id:CC #objects local:0 #objects remote: 0>,\n <MyWebsocketClientWorker id:DD #objects local:0 #objects remote: 0>,\n <MyWebsocketClientWorker id:EE #objects local:0 #objects remote: 0>]"
     },
     "execution_count": 8,
     "metadata": {},
     "output_type": "execute_result"
    }
   ],
   "source": [
    "all_nodes"
   ],
   "metadata": {
    "collapsed": false,
    "ExecuteTime": {
     "end_time": "2024-06-14T05:12:02.519789Z",
     "start_time": "2024-06-14T05:12:02.475163300Z"
    }
   }
  },
  {
   "cell_type": "code",
   "execution_count": 9,
   "outputs": [],
   "source": [
    "for node in all_nodes:\n",
    "    node.close()"
   ],
   "metadata": {
    "collapsed": false,
    "ExecuteTime": {
     "end_time": "2024-06-14T05:12:02.522789900Z",
     "start_time": "2024-06-14T05:12:02.521788700Z"
    }
   }
  },
  {
   "cell_type": "code",
   "execution_count": 10,
   "outputs": [],
   "source": [
    "'''模型回收'''\n",
    "# 连接 D E 两点\n",
    "node_dd = MyWebsocketClientWorker(hook=hook,**generate_kwarg(\"DD\"))\n",
    "node_ee = MyWebsocketClientWorker(hook=hook,**generate_kwarg(\"EE\"))\n",
    "\n",
    "command_1 = {\n",
    "    \"command_name\": \"model_collection\",\n",
    "    \"forward_device_id\": [\"BB\"],\n",
    "    \"aggregation\": True\n",
    "}\n",
    "\n",
    "command_2 = {\n",
    "    \"command_name\": \"model_collection\",\n",
    "    \"forward_device_id\": [\"CC\"],\n",
    "    \"aggregation\": True\n",
    "}"
   ],
   "metadata": {
    "collapsed": false,
    "ExecuteTime": {
     "end_time": "2024-06-14T05:12:02.577359500Z",
     "start_time": "2024-06-14T05:12:02.524788600Z"
    }
   }
  },
  {
   "cell_type": "code",
   "execution_count": 11,
   "outputs": [],
   "source": [
    "await send_command(commands=[command_1, command_2], nodes=[node_dd, node_ee])"
   ],
   "metadata": {
    "collapsed": false,
    "ExecuteTime": {
     "end_time": "2024-06-14T05:12:03.478817700Z",
     "start_time": "2024-06-14T05:12:02.578359500Z"
    }
   }
  },
  {
   "cell_type": "code",
   "execution_count": 12,
   "outputs": [],
   "source": [
    "node_cc.connect()\n",
    "node_bb.connect()\n",
    "\n",
    "command ={\n",
    "    \"command_name\": \"show_stored_models\",\n",
    "}\n",
    "node_cc.command(command)\n",
    "node_bb.command(command)\n"
   ],
   "metadata": {
    "collapsed": false,
    "ExecuteTime": {
     "end_time": "2024-06-14T05:12:03.524340200Z",
     "start_time": "2024-06-14T05:12:03.480817500Z"
    }
   }
  },
  {
   "cell_type": "code",
   "execution_count": 13,
   "outputs": [],
   "source": [
    "command_1 = {\n",
    "    \"command_name\": \"model_collection\",\n",
    "    \"forward_device_id\": [\"AA\"],\n",
    "    \"aggregation\": False\n",
    "}\n",
    "\n",
    "command_2 = {\n",
    "    \"command_name\": \"model_collection\",\n",
    "    \"forward_device_id\": [\"AA\"],\n",
    "    \"aggregation\": True\n",
    "}\n",
    "\n",
    "node_cc.command(command_1)\n",
    "node_bb.command(command_2)\n"
   ],
   "metadata": {
    "collapsed": false,
    "ExecuteTime": {
     "end_time": "2024-06-14T05:12:05.172670900Z",
     "start_time": "2024-06-14T05:12:03.525340Z"
    }
   }
  },
  {
   "cell_type": "code",
   "execution_count": 14,
   "outputs": [],
   "source": [
    "node_aa.connect()\n",
    "node_aa.command(command)"
   ],
   "metadata": {
    "collapsed": false,
    "ExecuteTime": {
     "end_time": "2024-06-14T05:12:05.202893800Z",
     "start_time": "2024-06-14T05:12:05.160039700Z"
    }
   }
  },
  {
   "cell_type": "code",
   "execution_count": 14,
   "outputs": [],
   "source": [],
   "metadata": {
    "collapsed": false,
    "ExecuteTime": {
     "end_time": "2024-06-14T05:12:05.202893800Z",
     "start_time": "2024-06-14T05:12:05.196555Z"
    }
   }
  }
 ],
 "metadata": {
  "kernelspec": {
   "display_name": "Python 3",
   "language": "python",
   "name": "python3"
  },
  "language_info": {
   "codemirror_mode": {
    "name": "ipython",
    "version": 2
   },
   "file_extension": ".py",
   "mimetype": "text/x-python",
   "name": "python",
   "nbconvert_exporter": "python",
   "pygments_lexer": "ipython2",
   "version": "2.7.6"
  }
 },
 "nbformat": 4,
 "nbformat_minor": 0
}
