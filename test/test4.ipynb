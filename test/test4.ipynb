{
 "cells": [
  {
   "cell_type": "code",
   "execution_count": 1,
   "metadata": {
    "collapsed": true,
    "ExecuteTime": {
     "end_time": "2024-06-20T09:40:39.237772900Z",
     "start_time": "2024-06-20T09:40:38.636920400Z"
    }
   },
   "outputs": [],
   "source": [
    "import syft as sy\n",
    "from syft.workers.websocket_client import WebsocketClientWorker\n",
    "from src.websocket_client import MyWebsocketClientWorker\n",
    "from src.nn_model import ConvNet1D, loss_fn\n",
    "from src.my_utils import generate_kwarg, generate_command_dict\n",
    "from src.config import Config\n",
    "import torch\n",
    "from datetime import datetime\n",
    "import asyncio\n",
    "import logging\n",
    "from src.model_evaluation import evaluate\n",
    "from typing import List\n",
    "from dfl_training import disseminate_model, initialized_model, close_connection, train_model, collect_model, change_state"
   ]
  },
  {
   "cell_type": "code",
   "execution_count": 2,
   "outputs": [],
   "source": [
    "hook = sy.TorchHook(torch)\n",
    "me = sy.hook.local_worker\n",
    "train_config = Config(training_rounds=50)\n",
    "\n",
    "node_pull_tree_1 = {1: [(1, 0), (1, 2)], 2: [(0, 3), (2, 4)]}\n",
    "node_pull_tree_2 = {1: [(1, 0), (1, 2), (1, 3), (1, 4)]}\n",
    "all_nodes_id = ['AA', 'BB', 'CC', 'DD', 'EE']\n",
    "all_nodes = []\n",
    "for node_id in all_nodes_id:\n",
    "    all_nodes.append(MyWebsocketClientWorker(hook=hook, **generate_kwarg(node_id)))\n",
    "\n",
    "close_connection(all_nodes)\n",
    "initialized_model(all_nodes[2-1])"
   ],
   "metadata": {
    "collapsed": false,
    "ExecuteTime": {
     "end_time": "2024-06-20T09:40:40.377870900Z",
     "start_time": "2024-06-20T09:40:39.594346700Z"
    }
   }
  },
  {
   "cell_type": "code",
   "execution_count": 8,
   "outputs": [],
   "source": [
    "await disseminate_model(node_pull_tree_1, all_nodes_id, all_nodes)"
   ],
   "metadata": {
    "collapsed": false,
    "ExecuteTime": {
     "end_time": "2024-06-20T09:41:04.725642700Z",
     "start_time": "2024-06-20T09:41:01.813427400Z"
    }
   }
  },
  {
   "cell_type": "code",
   "execution_count": 9,
   "outputs": [],
   "source": [
    "await disseminate_model(node_pull_tree_2, all_nodes_id, all_nodes)"
   ],
   "metadata": {
    "collapsed": false,
    "ExecuteTime": {
     "end_time": "2024-06-20T09:41:08.916105100Z",
     "start_time": "2024-06-20T09:41:05.538046400Z"
    }
   }
  },
  {
   "cell_type": "code",
   "execution_count": null,
   "outputs": [],
   "source": [
    "change_date(all_nodes[2-1])"
   ],
   "metadata": {
    "collapsed": false
   }
  },
  {
   "cell_type": "code",
   "execution_count": 10,
   "outputs": [
    {
     "name": "stdout",
     "output_type": "stream",
     "text": [
      "An error occurred during async_command: code = 1000 (OK), no reason\n"
     ]
    }
   ],
   "source": [
    "await train_model(all_nodes)"
   ],
   "metadata": {
    "collapsed": false,
    "ExecuteTime": {
     "end_time": "2024-06-20T09:41:12.540009200Z",
     "start_time": "2024-06-20T09:41:10.274933300Z"
    }
   }
  },
  {
   "cell_type": "code",
   "execution_count": 16,
   "outputs": [],
   "source": [
    "node_push_tree_1 = {1: [(2, 1), (3, 4)], 2: [(1, 0), (4, 0)]}\n",
    "node_push_tree_2 = {1: [(1, 0), (2, 0), (3, 0), (4, 0)]}"
   ],
   "metadata": {
    "collapsed": false,
    "ExecuteTime": {
     "end_time": "2024-06-20T09:43:06.709496900Z",
     "start_time": "2024-06-20T09:43:06.706497Z"
    }
   }
  },
  {
   "cell_type": "code",
   "execution_count": 18,
   "outputs": [],
   "source": [
    "await collect_model(node_push_tree_1, all_nodes_id, all_nodes)"
   ],
   "metadata": {
    "collapsed": false,
    "ExecuteTime": {
     "end_time": "2024-06-20T09:43:22.052214800Z",
     "start_time": "2024-06-20T09:43:19.372195700Z"
    }
   }
  },
  {
   "cell_type": "code",
   "execution_count": 19,
   "outputs": [],
   "source": [
    "await collect_model(node_push_tree_2, all_nodes_id, all_nodes)"
   ],
   "metadata": {
    "collapsed": false,
    "ExecuteTime": {
     "end_time": "2024-06-20T09:43:26.355336400Z",
     "start_time": "2024-06-20T09:43:22.837564Z"
    }
   }
  },
  {
   "cell_type": "code",
   "execution_count": null,
   "outputs": [],
   "source": [],
   "metadata": {
    "collapsed": false
   }
  }
 ],
 "metadata": {
  "kernelspec": {
   "display_name": "Python 3",
   "language": "python",
   "name": "python3"
  },
  "language_info": {
   "codemirror_mode": {
    "name": "ipython",
    "version": 2
   },
   "file_extension": ".py",
   "mimetype": "text/x-python",
   "name": "python",
   "nbconvert_exporter": "python",
   "pygments_lexer": "ipython2",
   "version": "2.7.6"
  }
 },
 "nbformat": 4,
 "nbformat_minor": 0
}
