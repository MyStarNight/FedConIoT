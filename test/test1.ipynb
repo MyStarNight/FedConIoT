{
 "cells": [
  {
   "cell_type": "code",
   "execution_count": 1,
   "metadata": {
    "collapsed": true,
    "ExecuteTime": {
     "end_time": "2024-06-12T05:33:11.168766500Z",
     "start_time": "2024-06-12T05:33:10.559480900Z"
    }
   },
   "outputs": [],
   "source": [
    "import syft as sy\n",
    "from syft.workers.websocket_client import WebsocketClientWorker\n",
    "from src.websocket_client import MyWebsocketClientWorker\n",
    "from src.nn_model import ConvNet1D, loss_fn\n",
    "import torch\n",
    "from datetime import datetime\n",
    "import asyncio"
   ]
  },
  {
   "cell_type": "markdown",
   "source": [
    "# 连接测试部分"
   ],
   "metadata": {
    "collapsed": false
   }
  },
  {
   "cell_type": "code",
   "execution_count": null,
   "outputs": [],
   "source": [
    "client_device_mapping_id = {\n",
    "    \"192.168.3.5\": \"AA\",\n",
    "    \"192.168.3.6\": \"BB\",\n",
    "    \"192.168.3.9\": \"CC\",\n",
    "    \"192.168.3.15\": \"DD\",\n",
    "    \"192.168.3.16\": \"EE\",\n",
    "}\n",
    "\n",
    "hook = sy.TorchHook(torch)\n",
    "\n",
    "all_nodes = []\n",
    "for ip, ID in client_device_mapping_id.items():\n",
    "    kwargs_websocket = {\"hook\": hook, \"host\": ip, \"port\": 9292, \"id\": ID}\n",
    "    all_nodes.append(WebsocketClientWorker(**kwargs_websocket))\n",
    "\n",
    "for node in all_nodes:\n",
    "    node.clear_objects_remote()"
   ],
   "metadata": {
    "collapsed": false
   }
  },
  {
   "cell_type": "code",
   "execution_count": null,
   "outputs": [],
   "source": [
    "model = ConvNet1D(input_size=400, num_classes=7)\n",
    "traced_model = torch.jit.trace(model, torch.zeros([1, 400, 3], dtype=torch.float))"
   ],
   "metadata": {
    "collapsed": false
   }
  },
  {
   "cell_type": "code",
   "execution_count": null,
   "outputs": [],
   "source": [
    "from src.train_config import MyTrainConfig\n",
    "\n",
    "train_config = MyTrainConfig(\n",
    "    model=traced_model,\n",
    "    loss_fn=loss_fn,\n",
    "    batch_size=32,\n",
    "    shuffle=True,\n",
    "    epochs=5,\n",
    "    optimizer='SGD'\n",
    ")"
   ],
   "metadata": {
    "collapsed": false
   }
  },
  {
   "cell_type": "code",
   "execution_count": null,
   "outputs": [],
   "source": [
    "start = datetime.now()\n",
    "train_config._wrap_and_send_obj(traced_model, all_nodes[0])\n",
    "train_config._wrap_and_send_obj(loss_fn, all_nodes[0])\n",
    "end = datetime.now()\n",
    "(end - start).total_seconds()"
   ],
   "metadata": {
    "collapsed": false
   }
  },
  {
   "cell_type": "markdown",
   "source": [
    "# 中继节点测试部分"
   ],
   "metadata": {
    "collapsed": false
   }
  },
  {
   "cell_type": "code",
   "execution_count": null,
   "outputs": [],
   "source": [
    "hook = sy.TorchHook(torch)\n",
    "\n",
    "aa_kwarg = {\"hook\": hook, \"host\": \"192.168.3.5\", \"port\": 9292, \"id\": \"AA\"}\n",
    "node_aa = WebsocketClientWorker(**aa_kwarg)"
   ],
   "metadata": {
    "collapsed": false
   }
  },
  {
   "cell_type": "code",
   "execution_count": null,
   "outputs": [],
   "source": [
    "forward_device_mapping_id = {\n",
    "    \"192.168.3.6\": \"BB\",\n",
    "}\n",
    "node_aa._send_msg_and_deserialize(command_name=\"connect_child_nodes\", forward_device_mapping_id=forward_device_mapping_id)\n"
   ],
   "metadata": {
    "collapsed": false
   }
  },
  {
   "cell_type": "code",
   "execution_count": null,
   "outputs": [],
   "source": [
    "start = datetime.now()\n",
    "node_aa._send_msg_and_deserialize(command_name=\"command\", command=dict(command_name=\"test\"))\n",
    "end = datetime.now()\n",
    "(end - start).total_seconds()"
   ],
   "metadata": {
    "collapsed": false
   }
  },
  {
   "cell_type": "code",
   "execution_count": null,
   "outputs": [],
   "source": [
    "node_aa._send_msg_and_deserialize(command_name=\"close_child_nodes\")"
   ],
   "metadata": {
    "collapsed": false
   }
  },
  {
   "cell_type": "markdown",
   "source": [
    "# 异步测试部分"
   ],
   "metadata": {
    "collapsed": false
   }
  },
  {
   "cell_type": "code",
   "execution_count": 2,
   "outputs": [],
   "source": [
    "client_device_mapping_id = {\n",
    "    \"192.168.3.5\": \"AA\",\n",
    "    \"192.168.3.6\": \"BB\",\n",
    "    \"192.168.3.9\": \"CC\",\n",
    "    \"192.168.3.15\": \"DD\",\n",
    "    \"192.168.3.16\": \"EE\",\n",
    "}\n",
    "\n",
    "hook = sy.TorchHook(torch)\n",
    "\n",
    "all_nodes = []\n",
    "for ip, ID in client_device_mapping_id.items():\n",
    "    kwargs_websocket = {\"hook\": hook, \"host\": ip, \"port\": 9292, \"id\": ID}\n",
    "    all_nodes.append(MyWebsocketClientWorker(**kwargs_websocket))\n",
    "\n",
    "for node in all_nodes:\n",
    "    node.clear_objects_remote()\n",
    "\n",
    "command = {\"command_name\": \"test\"}\n",
    "\n",
    "async def main():\n",
    "    await asyncio.gather(\n",
    "        *[\n",
    "            n.async_command(command)\n",
    "            for n in all_nodes\n",
    "        ]\n",
    "    )"
   ],
   "metadata": {
    "collapsed": false,
    "ExecuteTime": {
     "end_time": "2024-06-12T05:33:16.084975800Z",
     "start_time": "2024-06-12T05:33:15.508305200Z"
    }
   }
  },
  {
   "cell_type": "code",
   "execution_count": 3,
   "outputs": [
    {
     "name": "stdout",
     "output_type": "stream",
     "text": [
      "2024-06-12 13:33:19.877617\n",
      "2024-06-12 13:33:25.065539\n"
     ]
    }
   ],
   "source": [
    "print(datetime.now())\n",
    "await main()\n",
    "print(datetime.now())"
   ],
   "metadata": {
    "collapsed": false,
    "ExecuteTime": {
     "end_time": "2024-06-12T05:33:25.094294600Z",
     "start_time": "2024-06-12T05:33:19.879617200Z"
    }
   }
  },
  {
   "cell_type": "code",
   "execution_count": null,
   "outputs": [],
   "source": [],
   "metadata": {
    "collapsed": false
   }
  }
 ],
 "metadata": {
  "kernelspec": {
   "display_name": "Python 3",
   "language": "python",
   "name": "python3"
  },
  "language_info": {
   "codemirror_mode": {
    "name": "ipython",
    "version": 2
   },
   "file_extension": ".py",
   "mimetype": "text/x-python",
   "name": "python",
   "nbconvert_exporter": "python",
   "pygments_lexer": "ipython2",
   "version": "2.7.6"
  }
 },
 "nbformat": 4,
 "nbformat_minor": 0
}
